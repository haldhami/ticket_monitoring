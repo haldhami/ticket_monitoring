{
 "cells": [
  {
   "cell_type": "code",
   "execution_count": 1,
   "id": "11cbb787",
   "metadata": {},
   "outputs": [],
   "source": [
    "import requests\n",
    "import time\n",
    "import re\n",
    "import os\n",
    "from bs4 import BeautifulSoup\n",
    "from selenium import webdriver\n",
    "from dotenv import load_dotenv"
   ]
  },
  {
   "cell_type": "code",
   "execution_count": 2,
   "id": "5543c998",
   "metadata": {},
   "outputs": [
    {
     "ename": "WebDriverException",
     "evalue": "Message: unknown error: net::ERR_INTERNET_DISCONNECTED\n  (Session info: chrome=115.0.5790.98)\nStacktrace:\n0   chromedriver                        0x0000000102e1bf48 chromedriver + 4226888\n1   chromedriver                        0x0000000102e144f4 chromedriver + 4195572\n2   chromedriver                        0x0000000102a58d68 chromedriver + 281960\n3   chromedriver                        0x0000000102a515fc chromedriver + 251388\n4   chromedriver                        0x0000000102a43540 chromedriver + 193856\n5   chromedriver                        0x0000000102a44c3c chromedriver + 199740\n6   chromedriver                        0x0000000102a4389c chromedriver + 194716\n7   chromedriver                        0x0000000102a42824 chromedriver + 190500\n8   chromedriver                        0x0000000102a426e0 chromedriver + 190176\n9   chromedriver                        0x0000000102a41304 chromedriver + 185092\n10  chromedriver                        0x0000000102a41658 chromedriver + 185944\n11  chromedriver                        0x0000000102a5ada4 chromedriver + 290212\n12  chromedriver                        0x0000000102acb21c chromedriver + 750108\n13  chromedriver                        0x0000000102acac58 chromedriver + 748632\n14  chromedriver                        0x0000000102a87f1c chromedriver + 474908\n15  chromedriver                        0x0000000102a88ef4 chromedriver + 478964\n16  chromedriver                        0x0000000102ddd59c chromedriver + 3970460\n17  chromedriver                        0x0000000102de16f0 chromedriver + 3987184\n18  chromedriver                        0x0000000102de75b4 chromedriver + 4011444\n19  chromedriver                        0x0000000102de22fc chromedriver + 3990268\n20  chromedriver                        0x0000000102dba1c0 chromedriver + 3826112\n21  chromedriver                        0x0000000102dfe088 chromedriver + 4104328\n22  chromedriver                        0x0000000102dfe1e0 chromedriver + 4104672\n23  chromedriver                        0x0000000102e0df28 chromedriver + 4169512\n24  libsystem_pthread.dylib             0x00000001a6c3ffa8 _pthread_start + 148\n25  libsystem_pthread.dylib             0x00000001a6c3ada0 thread_start + 8\n",
     "output_type": "error",
     "traceback": [
      "\u001b[0;31m---------------------------------------------------------------------------\u001b[0m",
      "\u001b[0;31mWebDriverException\u001b[0m                        Traceback (most recent call last)",
      "Cell \u001b[0;32mIn[2], line 8\u001b[0m\n\u001b[1;32m      6\u001b[0m url \u001b[38;5;241m=\u001b[39m \u001b[38;5;124m'\u001b[39m\u001b[38;5;124mhttps://www.twickets.live/event/1599769182730199040\u001b[39m\u001b[38;5;124m'\u001b[39m\n\u001b[1;32m      7\u001b[0m browser \u001b[38;5;241m=\u001b[39m webdriver\u001b[38;5;241m.\u001b[39mChrome()\n\u001b[0;32m----> 8\u001b[0m \u001b[43mbrowser\u001b[49m\u001b[38;5;241;43m.\u001b[39;49m\u001b[43mget\u001b[49m\u001b[43m(\u001b[49m\u001b[43murl\u001b[49m\u001b[43m)\u001b[49m\n\u001b[1;32m     10\u001b[0m prev_cheapest_tickets \u001b[38;5;241m=\u001b[39m []\n\u001b[1;32m     12\u001b[0m \u001b[38;5;28;01mtry\u001b[39;00m:\n",
      "File \u001b[0;32m~/miniforge3/envs/current/lib/python3.11/site-packages/selenium/webdriver/remote/webdriver.py:355\u001b[0m, in \u001b[0;36mWebDriver.get\u001b[0;34m(self, url)\u001b[0m\n\u001b[1;32m    353\u001b[0m \u001b[38;5;28;01mdef\u001b[39;00m \u001b[38;5;21mget\u001b[39m(\u001b[38;5;28mself\u001b[39m, url: \u001b[38;5;28mstr\u001b[39m) \u001b[38;5;241m-\u001b[39m\u001b[38;5;241m>\u001b[39m \u001b[38;5;28;01mNone\u001b[39;00m:\n\u001b[1;32m    354\u001b[0m \u001b[38;5;250m    \u001b[39m\u001b[38;5;124;03m\"\"\"Loads a web page in the current browser session.\"\"\"\u001b[39;00m\n\u001b[0;32m--> 355\u001b[0m     \u001b[38;5;28;43mself\u001b[39;49m\u001b[38;5;241;43m.\u001b[39;49m\u001b[43mexecute\u001b[49m\u001b[43m(\u001b[49m\u001b[43mCommand\u001b[49m\u001b[38;5;241;43m.\u001b[39;49m\u001b[43mGET\u001b[49m\u001b[43m,\u001b[49m\u001b[43m \u001b[49m\u001b[43m{\u001b[49m\u001b[38;5;124;43m\"\u001b[39;49m\u001b[38;5;124;43murl\u001b[39;49m\u001b[38;5;124;43m\"\u001b[39;49m\u001b[43m:\u001b[49m\u001b[43m \u001b[49m\u001b[43murl\u001b[49m\u001b[43m}\u001b[49m\u001b[43m)\u001b[49m\n",
      "File \u001b[0;32m~/miniforge3/envs/current/lib/python3.11/site-packages/selenium/webdriver/remote/webdriver.py:346\u001b[0m, in \u001b[0;36mWebDriver.execute\u001b[0;34m(self, driver_command, params)\u001b[0m\n\u001b[1;32m    344\u001b[0m response \u001b[38;5;241m=\u001b[39m \u001b[38;5;28mself\u001b[39m\u001b[38;5;241m.\u001b[39mcommand_executor\u001b[38;5;241m.\u001b[39mexecute(driver_command, params)\n\u001b[1;32m    345\u001b[0m \u001b[38;5;28;01mif\u001b[39;00m response:\n\u001b[0;32m--> 346\u001b[0m     \u001b[38;5;28;43mself\u001b[39;49m\u001b[38;5;241;43m.\u001b[39;49m\u001b[43merror_handler\u001b[49m\u001b[38;5;241;43m.\u001b[39;49m\u001b[43mcheck_response\u001b[49m\u001b[43m(\u001b[49m\u001b[43mresponse\u001b[49m\u001b[43m)\u001b[49m\n\u001b[1;32m    347\u001b[0m     response[\u001b[38;5;124m\"\u001b[39m\u001b[38;5;124mvalue\u001b[39m\u001b[38;5;124m\"\u001b[39m] \u001b[38;5;241m=\u001b[39m \u001b[38;5;28mself\u001b[39m\u001b[38;5;241m.\u001b[39m_unwrap_value(response\u001b[38;5;241m.\u001b[39mget(\u001b[38;5;124m\"\u001b[39m\u001b[38;5;124mvalue\u001b[39m\u001b[38;5;124m\"\u001b[39m, \u001b[38;5;28;01mNone\u001b[39;00m))\n\u001b[1;32m    348\u001b[0m     \u001b[38;5;28;01mreturn\u001b[39;00m response\n",
      "File \u001b[0;32m~/miniforge3/envs/current/lib/python3.11/site-packages/selenium/webdriver/remote/errorhandler.py:245\u001b[0m, in \u001b[0;36mErrorHandler.check_response\u001b[0;34m(self, response)\u001b[0m\n\u001b[1;32m    243\u001b[0m         alert_text \u001b[38;5;241m=\u001b[39m value[\u001b[38;5;124m\"\u001b[39m\u001b[38;5;124malert\u001b[39m\u001b[38;5;124m\"\u001b[39m]\u001b[38;5;241m.\u001b[39mget(\u001b[38;5;124m\"\u001b[39m\u001b[38;5;124mtext\u001b[39m\u001b[38;5;124m\"\u001b[39m)\n\u001b[1;32m    244\u001b[0m     \u001b[38;5;28;01mraise\u001b[39;00m exception_class(message, screen, stacktrace, alert_text)  \u001b[38;5;66;03m# type: ignore[call-arg]  # mypy is not smart enough here\u001b[39;00m\n\u001b[0;32m--> 245\u001b[0m \u001b[38;5;28;01mraise\u001b[39;00m exception_class(message, screen, stacktrace)\n",
      "\u001b[0;31mWebDriverException\u001b[0m: Message: unknown error: net::ERR_INTERNET_DISCONNECTED\n  (Session info: chrome=115.0.5790.98)\nStacktrace:\n0   chromedriver                        0x0000000102e1bf48 chromedriver + 4226888\n1   chromedriver                        0x0000000102e144f4 chromedriver + 4195572\n2   chromedriver                        0x0000000102a58d68 chromedriver + 281960\n3   chromedriver                        0x0000000102a515fc chromedriver + 251388\n4   chromedriver                        0x0000000102a43540 chromedriver + 193856\n5   chromedriver                        0x0000000102a44c3c chromedriver + 199740\n6   chromedriver                        0x0000000102a4389c chromedriver + 194716\n7   chromedriver                        0x0000000102a42824 chromedriver + 190500\n8   chromedriver                        0x0000000102a426e0 chromedriver + 190176\n9   chromedriver                        0x0000000102a41304 chromedriver + 185092\n10  chromedriver                        0x0000000102a41658 chromedriver + 185944\n11  chromedriver                        0x0000000102a5ada4 chromedriver + 290212\n12  chromedriver                        0x0000000102acb21c chromedriver + 750108\n13  chromedriver                        0x0000000102acac58 chromedriver + 748632\n14  chromedriver                        0x0000000102a87f1c chromedriver + 474908\n15  chromedriver                        0x0000000102a88ef4 chromedriver + 478964\n16  chromedriver                        0x0000000102ddd59c chromedriver + 3970460\n17  chromedriver                        0x0000000102de16f0 chromedriver + 3987184\n18  chromedriver                        0x0000000102de75b4 chromedriver + 4011444\n19  chromedriver                        0x0000000102de22fc chromedriver + 3990268\n20  chromedriver                        0x0000000102dba1c0 chromedriver + 3826112\n21  chromedriver                        0x0000000102dfe088 chromedriver + 4104328\n22  chromedriver                        0x0000000102dfe1e0 chromedriver + 4104672\n23  chromedriver                        0x0000000102e0df28 chromedriver + 4169512\n24  libsystem_pthread.dylib             0x00000001a6c3ffa8 _pthread_start + 148\n25  libsystem_pthread.dylib             0x00000001a6c3ada0 thread_start + 8\n"
     ]
    }
   ],
   "source": [
    "load_dotenv()\n",
    "\n",
    "API_KEY = os.getenv('PO_API_KEY')\n",
    "USER_KEY = os.getenv('PO_USER_KEY')\n",
    "\n",
    "url = 'https://www.twickets.live/event/1599769182730199040'\n",
    "browser = webdriver.Chrome()\n",
    "browser.get(url)\n",
    "\n",
    "prev_cheapest_tickets = []\n",
    "\n",
    "try:\n",
    "    while True:\n",
    "        \n",
    "        time.sleep(60)\n",
    "        browser.refresh()\n",
    "        time.sleep(2.5)\n",
    "        page = browser.page_source\n",
    "        \n",
    "        soup = BeautifulSoup(page, 'html.parser')\n",
    "\n",
    "        tickets = soup.find_all('twickets-g2-listing')\n",
    "\n",
    "        cheapest_tickets = []\n",
    "        max_price = 90\n",
    "        \n",
    "        for ticket in tickets:\n",
    "            if 'Standing' not in ticket.text:\n",
    "                continue\n",
    "            price = re.findall('£\\d{1,2}.\\d{1,2}', ticket.text)[0]\n",
    "            number_of_tickets = re.findall('\\d tickets|1 ticket', ticket.text)[0]\n",
    "            float_price = float(price[1:])\n",
    "            if float_price > max_price:\n",
    "                continue\n",
    "            if len(cheapest_tickets) != 3:\n",
    "                cheapest_tickets.append((number_of_tickets, price))\n",
    "            else:\n",
    "                break\n",
    "            \n",
    "        if cheapest_tickets == prev_cheapest_tickets:\n",
    "            continue\n",
    "            \n",
    "        message = ''\n",
    "        for cheapest_ticket in cheapest_tickets:\n",
    "            message += f'\\n{cheapest_ticket[0]} @ {cheapest_ticket[1]} each'\n",
    "\n",
    "        message = message.strip()\n",
    "        message += '\\nhttps://www.twickets.live/event/1599769182730199040'\n",
    "\n",
    "        url = 'https://api.pushover.net/1/messages.json'\n",
    "\n",
    "        payload = {'token': API_KEY, 'user': USER_KEY, 'message': message}\n",
    "\n",
    "        r = requests.post(url, data=payload)\n",
    "        prev_cheapest_tickets = cheapest_tickets\n",
    "                \n",
    "except KeyboardInterrupt:\n",
    "    print('Program has stopped.')\n",
    "    "
   ]
  },
  {
   "cell_type": "code",
   "execution_count": null,
   "id": "9caeb2d5",
   "metadata": {},
   "outputs": [],
   "source": []
  }
 ],
 "metadata": {
  "kernelspec": {
   "display_name": "Python 3 (ipykernel)",
   "language": "python",
   "name": "python3"
  },
  "language_info": {
   "codemirror_mode": {
    "name": "ipython",
    "version": 3
   },
   "file_extension": ".py",
   "mimetype": "text/x-python",
   "name": "python",
   "nbconvert_exporter": "python",
   "pygments_lexer": "ipython3",
   "version": "3.11.0"
  }
 },
 "nbformat": 4,
 "nbformat_minor": 5
}
